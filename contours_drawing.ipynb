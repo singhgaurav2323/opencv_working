{
 "cells": [
  {
   "cell_type": "code",
   "execution_count": 1,
   "metadata": {},
   "outputs": [],
   "source": [
    "import cv2\n",
    "import numpy as np"
   ]
  },
  {
   "cell_type": "code",
   "execution_count": 2,
   "metadata": {},
   "outputs": [],
   "source": [
    "images =cv2.imread(\"images/shapes.jpg\")\n",
    "image_copy =images.copy()"
   ]
  },
  {
   "cell_type": "code",
   "execution_count": 3,
   "metadata": {},
   "outputs": [],
   "source": [
    "cv2.imshow(\"main image\",images)\n",
    "cv2.waitKey()\n",
    "cv2.destroyAllWindows()"
   ]
  },
  {
   "cell_type": "code",
   "execution_count": 4,
   "metadata": {
    "scrolled": true
   },
   "outputs": [
    {
     "data": {
      "text/plain": [
       "(600, 800, 3)"
      ]
     },
     "execution_count": 4,
     "metadata": {},
     "output_type": "execute_result"
    }
   ],
   "source": [
    "images.shape"
   ]
  },
  {
   "cell_type": "code",
   "execution_count": 5,
   "metadata": {},
   "outputs": [
    {
     "data": {
      "text/plain": [
       "(600, 800)"
      ]
     },
     "execution_count": 5,
     "metadata": {},
     "output_type": "execute_result"
    }
   ],
   "source": [
    "# Gray scale conversion of image\n",
    "\n",
    "gray =cv2.cvtColor(images, cv2.COLOR_BGR2GRAY)\n",
    "cv2.imshow(\"Original Image\", images)\n",
    "cv2.waitKey()\n",
    "cv2.imshow(\"Gray image\",gray)\n",
    "cv2.waitKey()\n",
    "cv2.destroyAllWindows()\n",
    "gray.shape"
   ]
  },
  {
   "cell_type": "code",
   "execution_count": 6,
   "metadata": {},
   "outputs": [
    {
     "data": {
      "text/plain": [
       "(600, 800)"
      ]
     },
     "execution_count": 6,
     "metadata": {},
     "output_type": "execute_result"
    }
   ],
   "source": [
    "# Edge detection of images\n",
    "\n",
    "edge =cv2.Canny(images, 30, 200)\n",
    "cv2.imshow(\"Original Image\", images)\n",
    "cv2.waitKey()\n",
    "cv2.imshow(\"Edge image\",edge)\n",
    "cv2.waitKey()\n",
    "cv2.destroyAllWindows()\n",
    "edge.shape"
   ]
  },
  {
   "cell_type": "code",
   "execution_count": 7,
   "metadata": {},
   "outputs": [
    {
     "data": {
      "text/plain": [
       "'\\n# Threshold detection of images\\n\\n_,  threshold =cv2.threshold(images, 20, 150, cv2.THRESH_BINARY_INV)\\ncv2.imshow(\"Original Image\", images)\\ncv2.waitKey()\\ncv2.imshow(\"Threshold image\",threshold)\\ncv2.waitKey()\\ncv2.destroyAllWindows()\\nthreshold.shape\\n'"
      ]
     },
     "execution_count": 7,
     "metadata": {},
     "output_type": "execute_result"
    }
   ],
   "source": [
    "'''\n",
    "# Threshold detection of images\n",
    "\n",
    "_,  threshold =cv2.threshold(images, 20, 150, cv2.THRESH_BINARY_INV)\n",
    "cv2.imshow(\"Original Image\", images)\n",
    "cv2.waitKey()\n",
    "cv2.imshow(\"Threshold image\",threshold)\n",
    "cv2.waitKey()\n",
    "cv2.destroyAllWindows()\n",
    "threshold.shape\n",
    "'''"
   ]
  },
  {
   "cell_type": "code",
   "execution_count": null,
   "metadata": {},
   "outputs": [],
   "source": []
  },
  {
   "cell_type": "markdown",
   "metadata": {},
   "source": [
    "cv.findContours(Image, Retrival mode, Approximation method)"
   ]
  },
  {
   "cell_type": "code",
   "execution_count": 8,
   "metadata": {},
   "outputs": [
    {
     "name": "stdout",
     "output_type": "stream",
     "text": [
      "Number of Countours found = 3\n"
     ]
    }
   ],
   "source": [
    "# Getting image file\n",
    "images =cv2.imread(\"images/shapes.jpg\")\n",
    "\n",
    "#Converting Image to Grayscale\n",
    "gray =cv2.cvtColor(images, cv2.COLOR_BGR2GRAY)\n",
    "\n",
    "#Getting the Edges of Image\n",
    "edge =cv2.Canny(images, 30, 200)\n",
    "\n",
    "# Finding contour of image\n",
    "#Using copy of edge detected image( edge.copy() ) to find Contour as it manipulates the image\n",
    "\n",
    "#copy_edge =edge.copy()\n",
    "\n",
    "result, contours, hierarchy = cv2.findContours(edge, cv2.RETR_EXTERNAL, cv2.CHAIN_APPROX_NONE)\n",
    "\n",
    "print(\"Number of Countours found = \"+ str(len(contours)))\n",
    "\n",
    "#draw all countours\n",
    "# use -1 to draw all countours\n",
    "cv2.drawContours(images, contours, -1, (0,255,0), 3) # This comaand will draw contour on the main image file\n",
    "\n",
    "cv2.imshow(\"Original image\",image_copy)\n",
    "cv2.waitKey()\n",
    "\n",
    "cv2.imshow(\"Gray image\",gray)\n",
    "cv2.waitKey()\n",
    "\n",
    "cv2.imshow(\"Edge detcted image\", edge)\n",
    "cv2.waitKey()\n",
    "\n",
    "cv2.imshow(\"Contours\",images)\n",
    "cv2.waitKey()\n",
    "cv2.destroyAllWindows()"
   ]
  },
  {
   "cell_type": "raw",
   "metadata": {},
   "source": [
    "Retrival Mode\n",
    "using this cv2.RETR_EXTERNAL is efficient\n",
    "\n",
    "Approxaimation Method\n",
    "using cv2.CHAIN_APPROX_NONE stores all the boundry points. But we not need only boundry points.\n",
    "If the points forms straight line then we need starting and ending point sufficiently.\n",
    "\n",
    "using cv2.CHAIN_APPROX_SIMPLE instead provide only staring and ending point bounding Countours, \n",
    "thus resulting is more efficient of countour innformation storage."
   ]
  },
  {
   "cell_type": "markdown",
   "metadata": {},
   "source": [
    "# RETER MODE Analysis"
   ]
  },
  {
   "cell_type": "markdown",
   "metadata": {},
   "source": [
    "Let's analyse the cv2.RETR_LIST and importance of that"
   ]
  },
  {
   "cell_type": "code",
   "execution_count": 11,
   "metadata": {},
   "outputs": [
    {
     "name": "stdout",
     "output_type": "stream",
     "text": [
      "Number of Countours found = 3\n"
     ]
    }
   ],
   "source": [
    "# Getting image file\n",
    "images =cv2.imread(\"images/shapes_donut.jpg\")\n",
    "\n",
    "#Converting Image to Grayscale\n",
    "gray =cv2.cvtColor(images, cv2.COLOR_BGR2GRAY)\n",
    "\n",
    "#Getting the Edges of Image\n",
    "edge =cv2.Canny(images, 30, 200)\n",
    "\n",
    "# Finding contour of image\n",
    "#Using copy of edge detected image( edge.copy() ) to find Contour as it manipulates the image\n",
    "\n",
    "#copy_edge =edge.copy()\n",
    "\n",
    "result, contours, hierarchy = cv2.findContours(edge, cv2.RETR_EXTERNAL, cv2.CHAIN_APPROX_NONE)\n",
    "\n",
    "print(\"Number of Countours found = \"+ str(len(contours)))\n",
    "\n",
    "#draw all countours\n",
    "# use -1 to draw all countours\n",
    "cv2.drawContours(images, contours, -1, (0,255,0), 3) # This comaand will draw contour on the main image file\n",
    "\n",
    "cv2.imshow(\"Original image\",images)\n",
    "cv2.waitKey()\n",
    "\n",
    "cv2.imshow(\"Gray image\",gray)\n",
    "cv2.waitKey()\n",
    "\n",
    "cv2.imshow(\"Edge detcted image\", edge)\n",
    "cv2.waitKey()\n",
    "\n",
    "cv2.imshow(\"Contours\",images)\n",
    "cv2.waitKey()\n",
    "cv2.destroyAllWindows()"
   ]
  },
  {
   "cell_type": "markdown",
   "metadata": {},
   "source": [
    "cv2.RETR_LIST analysis"
   ]
  },
  {
   "cell_type": "code",
   "execution_count": 12,
   "metadata": {},
   "outputs": [
    {
     "name": "stdout",
     "output_type": "stream",
     "text": [
      "Number of Countours found = 8\n"
     ]
    }
   ],
   "source": [
    "# Getting image file\n",
    "images =cv2.imread(\"images/shapes_donut.jpg\")\n",
    "\n",
    "#Converting Image to Grayscale\n",
    "gray =cv2.cvtColor(images, cv2.COLOR_BGR2GRAY)\n",
    "\n",
    "#Getting the Edges of Image\n",
    "edge =cv2.Canny(images, 30, 200)\n",
    "\n",
    "# Finding contour of image\n",
    "#Using copy of edge detected image( edge.copy() ) to find Contour as it manipulates the image\n",
    "\n",
    "#copy_edge =edge.copy()\n",
    "\n",
    "result, contours, hierarchy = cv2.findContours(edge, cv2.RETR_LIST, cv2.CHAIN_APPROX_NONE)\n",
    "\n",
    "print(\"Number of Countours found = \"+ str(len(contours)))\n",
    "\n",
    "#draw all countours\n",
    "# use -1 to draw all countours\n",
    "cv2.drawContours(images, contours, -1, (0,255,0), 3) # This comaand will draw contour on the main image file\n",
    "\n",
    "cv2.imshow(\"Original image\",images)\n",
    "cv2.waitKey()\n",
    "\n",
    "cv2.imshow(\"Gray image\",gray)\n",
    "cv2.waitKey()\n",
    "\n",
    "cv2.imshow(\"Edge detcted image\", edge)\n",
    "cv2.waitKey()\n",
    "\n",
    "cv2.imshow(\"Contours\",images)\n",
    "cv2.waitKey()\n",
    "cv2.destroyAllWindows()"
   ]
  },
  {
   "cell_type": "code",
   "execution_count": null,
   "metadata": {},
   "outputs": [],
   "source": []
  }
 ],
 "metadata": {
  "kernelspec": {
   "display_name": "Python 3",
   "language": "python",
   "name": "python3"
  },
  "language_info": {
   "codemirror_mode": {
    "name": "ipython",
    "version": 3
   },
   "file_extension": ".py",
   "mimetype": "text/x-python",
   "name": "python",
   "nbconvert_exporter": "python",
   "pygments_lexer": "ipython3",
   "version": "3.6.8"
  }
 },
 "nbformat": 4,
 "nbformat_minor": 2
}
