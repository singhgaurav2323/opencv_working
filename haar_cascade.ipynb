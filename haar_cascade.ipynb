{
 "cells": [
  {
   "cell_type": "markdown",
   "metadata": {},
   "source": [
    "# Haar cascade Working for face detection"
   ]
  },
  {
   "cell_type": "code",
   "execution_count": 2,
   "metadata": {},
   "outputs": [],
   "source": [
    "import numpy as np\n",
    "import cv2"
   ]
  },
  {
   "cell_type": "code",
   "execution_count": 21,
   "metadata": {},
   "outputs": [],
   "source": [
    "#Loading cascade classifer function\n",
    "face_classifer =cv2.CascadeClassifier('file to work/Haarcascades/haarcascade_frontalface_default.xml')\n",
    "eye_classifier =cv2.CascadeClassifier('file to work/Haarcascades/haarcascade_eye.xml')\n",
    "smile_classifier =cv2.CascadeClassifier('file to work/Haarcascades/haarcascade_smile.xml')\n",
    "\n",
    "\n",
    "#Loading Image\n",
    "image =cv2.imread(\"images/Trump.jpg\")\n",
    "gray =cv2.cvtColor(image, cv2.COLOR_BGR2GRAY)\n",
    "\n",
    "#Applying cascade classifer function on the image\n",
    "faces =face_classifer.detectMultiScale(gray, 1.3, 5)\n",
    "\n",
    "if faces is ():\n",
    "    print(\"No face detected\")\n",
    "    \n",
    "for (x, y, w, h) in faces:\n",
    "    cv2.rectangle(image, (x,y), (x+h, y+w), (0,255,0), 2)\n",
    "    cv2.imshow(\"Detected region\", image)\n",
    "    cv2.waitKey()\n",
    "    roi_gray =gray[y:y+h, x:x+w]\n",
    "    roi_color =image[y:y+h, x:x+w]\n",
    "    eyes =eye_classifier.detectMultiScale(roi_gray)\n",
    "    for (x_e, y_e, w_e, h_e) in eyes:\n",
    "        cv2.rectangle(roi_color, (x_e,y_e), (x_e+h_e, y_e+w_e), (255,255,0), 3)\n",
    "        cv2.imshow(\"Detected Image\", image)\n",
    "        cv2.waitKey()\n",
    "cv2.destroyAllWindows()"
   ]
  },
  {
   "cell_type": "code",
   "execution_count": null,
   "metadata": {},
   "outputs": [],
   "source": []
  },
  {
   "cell_type": "markdown",
   "metadata": {},
   "source": [
    "# Live Face detection through web cam"
   ]
  },
  {
   "cell_type": "code",
   "execution_count": 36,
   "metadata": {},
   "outputs": [],
   "source": [
    "def detection(image):\n",
    "    #Loading cascade classifer function\n",
    "    face_classifer =cv2.CascadeClassifier('file to work/Haarcascades/haarcascade_frontalface_default.xml')\n",
    "    eye_classifier =cv2.CascadeClassifier('file to work/Haarcascades/haarcascade_eye.xml')\n",
    "    smile_classifier =cv2.CascadeClassifier('file to work/Haarcascades/haarcascade_smile.xml')\n",
    "\n",
    "\n",
    "    #Loading Image\n",
    "    gray =cv2.cvtColor(image, cv2.COLOR_BGR2GRAY)\n",
    "\n",
    "    #Applying cascade classifer function on the image\n",
    "    faces =face_classifer.detectMultiScale(gray, 1.3, 5)\n",
    "\n",
    "    if faces is ():\n",
    "        return image\n",
    "\n",
    "    for (x, y, w, h) in faces:\n",
    "        cv2.rectangle(image, (x,y), (x+h, y+w), (0,255,0), 2)\n",
    "        \n",
    "        roi_gray =gray[y:y+h, x:x+w]\n",
    "        roi_color =image[y:y+h, x:x+w]\n",
    "        eyes =eye_classifier.detectMultiScale(roi_gray)\n",
    "        for (x_e, y_e, w_e, h_e) in eyes:\n",
    "            cv2.rectangle(roi_color, (x_e,y_e), (x_e+h_e, y_e+w_e), (255,255,0), 3)\n",
    "     \n",
    "    #roi_color =cv2.flip(roi_color,1)\n",
    "    return image\n",
    "    return roi_color"
   ]
  },
  {
   "cell_type": "code",
   "execution_count": 37,
   "metadata": {},
   "outputs": [],
   "source": [
    "cap =cv2.VideoCapture(0)\n",
    "\n",
    "while True:\n",
    "    ret, frame =cap.read()\n",
    "    cv2.imshow(\"The detction\", detection(frame))\n",
    "    if cv2.waitKey(1) == 13:  # Enter Key\n",
    "        break\n",
    "\n",
    "cap.release()\n",
    "cv2.destroyAllWindows()"
   ]
  },
  {
   "cell_type": "code",
   "execution_count": null,
   "metadata": {},
   "outputs": [],
   "source": []
  },
  {
   "cell_type": "code",
   "execution_count": null,
   "metadata": {},
   "outputs": [],
   "source": []
  }
 ],
 "metadata": {
  "kernelspec": {
   "display_name": "Python 3",
   "language": "python",
   "name": "python3"
  },
  "language_info": {
   "codemirror_mode": {
    "name": "ipython",
    "version": 3
   },
   "file_extension": ".py",
   "mimetype": "text/x-python",
   "name": "python",
   "nbconvert_exporter": "python",
   "pygments_lexer": "ipython3",
   "version": "3.6.8"
  }
 },
 "nbformat": 4,
 "nbformat_minor": 2
}
