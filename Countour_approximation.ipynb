{
 "cells": [
  {
   "cell_type": "markdown",
   "metadata": {},
   "source": [
    "# Approximation Contours"
   ]
  },
  {
   "cell_type": "code",
   "execution_count": 1,
   "metadata": {},
   "outputs": [],
   "source": [
    "import numpy as np\n",
    "import cv2"
   ]
  },
  {
   "cell_type": "code",
   "execution_count": 2,
   "metadata": {},
   "outputs": [],
   "source": [
    "images =cv2.imread(\"images/house.jpg\")\n",
    "cv2.imshow(\"Original Image\", images)\n",
    "cv2.waitKey()\n",
    "cv2.destroyAllWindows()"
   ]
  },
  {
   "cell_type": "markdown",
   "metadata": {},
   "source": [
    "Drawing the basic contours on the image"
   ]
  },
  {
   "cell_type": "code",
   "execution_count": 3,
   "metadata": {},
   "outputs": [],
   "source": [
    "# Importing the images and make copy of that\n",
    "images =cv2.imread(\"images/house.jpg\")\n",
    "image_copy=images.copy()\n",
    "image_copy1 =images.copy()\n",
    "\n",
    "# Showing the Original Image\n",
    "cv2.imshow(\"Original Image\", image_copy)\n",
    "cv2.waitKey()\n",
    "\n",
    "# Gray scale conversion and ege detection\n",
    "gray =cv2.cvtColor(images, cv2.COLOR_BGR2GRAY)\n",
    "edge =cv2.Canny(gray, 20, 150)\n",
    "\n",
    "#Contour conversion\n",
    "image, contours, hierarchy =cv2.findContours(edge, cv2.RETR_LIST, cv2.CHAIN_APPROX_SIMPLE)\n",
    "cv2.drawContours(image_copy1, contours, -1, (0,255,0), 3)\n",
    "#cv2.imshow(\"Contour Function Display Image\", image_copy1)\n",
    "#cv2.waitKey()\n",
    "\n",
    "# Counter recatngle drawing process\n",
    "for c in contours:\n",
    "    x, y, w, h=cv2.boundingRect(c)\n",
    "    cv2.rectangle(images, (x,y), (x+w,y+h), (0,0,255), 2)\n",
    "    cv2.imshow(\"Bounding Rectangle\", images)\n",
    "\n",
    "cv2.waitKey()\n",
    "\n",
    "#Iterate through each counter and calculate approx counter for each\n",
    "for c in contours:\n",
    "    #Calculate accuracy as a percent of countour perametre\n",
    "    accuracy =0.01*cv2.arcLength(c, True)\n",
    "    approx =cv2.approxPolyDP(c, accuracy, True)\n",
    "    cv2.drawContours(image_copy, [approx], 0, (0,255,0), 2)\n",
    "    cv2.imshow(\"Approx Ploy DP\", image_copy)\n",
    "\n",
    "#cv2.imshow(\"Contour Image\", images)\n",
    "cv2.waitKey()\n",
    "cv2.destroyAllWindows()"
   ]
  },
  {
   "cell_type": "markdown",
   "metadata": {},
   "source": [
    "Another Example to state this process"
   ]
  },
  {
   "cell_type": "code",
   "execution_count": 4,
   "metadata": {},
   "outputs": [],
   "source": [
    "# Importing the images and make copy of that\n",
    "images =cv2.imread(\"images/hand.jpg\")\n",
    "image_copy=images.copy()\n",
    "image_copy1 =images.copy()\n",
    "\n",
    "# Showing the Original Image\n",
    "cv2.imshow(\"Original Image\", image_copy)\n",
    "cv2.waitKey()\n",
    "\n",
    "# Gray scale conversion and ege detection\n",
    "gray =cv2.cvtColor(images, cv2.COLOR_BGR2GRAY)\n",
    "edge =cv2.Canny(gray, 20, 150)\n",
    "\n",
    "# Counter recatngle drawing process\n",
    "for c in contours:\n",
    "    x, y, w, h=cv2.boundingRect(c)\n",
    "    cv2.rectangle(images, (x,y), (x+w,y+h), (0,0,255), 2)\n",
    "    cv2.imshow(\"Bounding Rectangle\", images)\n",
    "cv2.waitKey()\n",
    "\n",
    "#Iterate through each counter and calculate approx counter for each\n",
    "for c in contours:\n",
    "    #Calculate accuracy as a percent of countour perametre\n",
    "    accuracy =0.0005*cv2.arcLength(c, True)\n",
    "    approx =cv2.approxPolyDP(c, accuracy, True)\n",
    "    cv2.drawContours(image_copy, [approx], 0, (0,255,0), 2)\n",
    "    cv2.imshow(\"Approx Ploy DP\", image_copy)\n",
    "\n",
    "#cv2.imshow(\"Contour Image\", images)\n",
    "cv2.waitKey()\n",
    "\n",
    "#Contour conversion\n",
    "image, contours, hierarchy =cv2.findContours(edge, cv2.RETR_LIST, cv2.CHAIN_APPROX_SIMPLE)\n",
    "cv2.drawContours(image_copy1, contours, -1, (0,255,0), 3)\n",
    "cv2.imshow(\"Contour Function Display Image\", image_copy1)\n",
    "cv2.waitKey()\n",
    "\n",
    "cv2.destroyAllWindows()"
   ]
  },
  {
   "cell_type": "markdown",
   "metadata": {},
   "source": [
    "Overlapping of contour on other image"
   ]
  },
  {
   "cell_type": "code",
   "execution_count": 52,
   "metadata": {},
   "outputs": [],
   "source": [
    "images =cv2.imread(\"images/house.jpg\")\n",
    "\n",
    "cv2.imshow(\"Original\", images)\n",
    "cv2.waitKey()\n",
    "cv2.drawContours(images, contours, -1, (0,255,0), 3)\n",
    "cv2.imshow(\"Contor draw\", images)\n",
    "cv2.waitKey()\n",
    "cv2.destroyAllWindows()"
   ]
  },
  {
   "cell_type": "markdown",
   "metadata": {},
   "source": [
    "# Convex Hull"
   ]
  },
  {
   "cell_type": "markdown",
   "metadata": {},
   "source": [
    "It draw a connecting lines with the outer most points in a image "
   ]
  },
  {
   "cell_type": "code",
   "execution_count": 82,
   "metadata": {},
   "outputs": [],
   "source": [
    "# Importing the images and make copy of that\n",
    "images =cv2.imread(\"images/hand.jpg\")\n",
    "image_copy=images.copy()\n",
    "image_copy1 =images.copy()\n",
    "\n",
    "# Showing the Original Image\n",
    "cv2.imshow(\"Original Image\", image_copy)\n",
    "cv2.waitKey()\n",
    "\n",
    "# Gray scale conversion and ege detection\n",
    "gray =cv2.cvtColor(images, cv2.COLOR_BGR2GRAY)\n",
    "\n",
    "\n",
    "#threshold od image\n",
    "ret, thresh =cv2.threshold(gray, 170, 255, 0)\n",
    "cv2.imshow(\"Threshold converted Image\", thresh)\n",
    "cv2.waitKey()\n",
    "\n",
    "#Contour conversion\n",
    "image, contours, hierarchy =cv2.findContours(thresh.copy(), cv2.RETR_LIST, cv2.CHAIN_APPROX_SIMPLE)\n",
    "\n",
    "#we will reduce the countour by one because it will make the overloading reduction\n",
    "#Sorting of the Countours\n",
    "n =len(contours)-1\n",
    "contours =sorted(contours, key=cv2.contourArea, reverse=False)[:n]\n",
    "\n",
    "# Counter recatngle drawing process\n",
    "for c in contours:\n",
    "    hull =cv2.convexHull(c)\n",
    "    cv2.drawContours(images, [hull], 0, (0,255,0), 2)\n",
    "    cv2.imshow(\"Convex Hull\", images)\n",
    "cv2.waitKey()\n",
    "\n",
    "cv2.destroyAllWindows()"
   ]
  },
  {
   "cell_type": "code",
   "execution_count": null,
   "metadata": {},
   "outputs": [],
   "source": []
  }
 ],
 "metadata": {
  "kernelspec": {
   "display_name": "Python 3",
   "language": "python",
   "name": "python3"
  },
  "language_info": {
   "codemirror_mode": {
    "name": "ipython",
    "version": 3
   },
   "file_extension": ".py",
   "mimetype": "text/x-python",
   "name": "python",
   "nbconvert_exporter": "python",
   "pygments_lexer": "ipython3",
   "version": "3.6.8"
  }
 },
 "nbformat": 4,
 "nbformat_minor": 2
}
