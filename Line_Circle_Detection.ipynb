{
 "cells": [
  {
   "cell_type": "markdown",
   "metadata": {},
   "source": [
    "# Line Detection - Using Hough Line"
   ]
  },
  {
   "cell_type": "markdown",
   "metadata": {},
   "source": [
    "cv2.HoughLines(binarized/threshold image, length accuracy, angle accuracy, threshold)"
   ]
  },
  {
   "cell_type": "code",
   "execution_count": 55,
   "metadata": {},
   "outputs": [],
   "source": [
    "import numpy as np\n",
    "import cv2\n",
    "\n",
    "image =cv2.imread(\"images/soduku.jpg\")\n",
    "image_copy =image.copy()\n",
    "\n",
    "#Gray and canny edge detection\n",
    "gray =cv2.cvtColor(image.copy(), cv2.COLOR_BGR2GRAY)\n",
    "edge =cv2.Canny(gray, 210, 270)\n",
    "\n",
    "#applying Hough line detection\n",
    "#getting line accuracy of 1 and angle accuracy np.pi/180 will for 1 degree\n",
    "#putting line threshold of 240(number of points on line)\n",
    "line =cv2.HoughLines(edge, 1, np.pi/180, 225)\n",
    "\n",
    "#Iterate through each point and calculate standard line\n",
    "#required by cv.lines\n",
    "for point in line:    \n",
    "    for rho, theta in point:\n",
    "        a =np.cos(theta)\n",
    "        b =np.sin(theta)\n",
    "        x0=a*rho\n",
    "        y0=b*rho\n",
    "        x1=int(x0 +1000*(-b))\n",
    "        y1=int(y0 +1000*(a))\n",
    "        x2=int(x0 -1000*(-b))\n",
    "        y2=int(y0 -1000*(a))\n",
    "    cv2.line(image, (x1,y1), (x2,y2), (0,255,0), 2)\n",
    "\n",
    "cv2.imshow(\"Hough Line\", image)\n",
    "cv2.waitKey()\n",
    "cv2.destroyAllWindows()"
   ]
  },
  {
   "cell_type": "markdown",
   "metadata": {},
   "source": [
    "as the above code is often quite complex to get line coordinate which solved by probalistic approach"
   ]
  },
  {
   "cell_type": "markdown",
   "metadata": {},
   "source": [
    "# Probabilistic Hough Line"
   ]
  },
  {
   "cell_type": "markdown",
   "metadata": {},
   "source": [
    "cv2.HoughLinesP(binarized/threshold image, length accuracy, angle accuracy, threshold, minimum line length, maximum line gap)"
   ]
  },
  {
   "cell_type": "code",
   "execution_count": 71,
   "metadata": {},
   "outputs": [],
   "source": [
    "import numpy as np\n",
    "import cv2\n",
    "\n",
    "image =cv2.imread(\"images/soduku.jpg\")\n",
    "image_copy =image.copy()\n",
    "\n",
    "#Gray and canny edge detection\n",
    "gray =cv2.cvtColor(image.copy(), cv2.COLOR_BGR2GRAY)\n",
    "edge =cv2.Canny(gray, 210, 270)\n",
    "\n",
    "#applying Hough line probaablistic detection\n",
    "#We define a minimum vote point along the line\n",
    "#getting line accuracy of 1 and angle accuracy np.pi/180 will for 1 degree\n",
    "line =cv2.HoughLinesP(edge, 1, np.pi/180, 225, 150, 50, 70)\n",
    "\n",
    "for points in line:\n",
    "    for x1, y1, x2, y2 in points:\n",
    "        cv2.line(image, (x1,y1), (x2,y2), (0,255,255), 2)\n",
    "\n",
    "cv2.imshow(\"Probablistic Hough Line\", image)\n",
    "cv2.waitKey()\n",
    "cv2.destroyAllWindows()"
   ]
  },
  {
   "cell_type": "code",
   "execution_count": null,
   "metadata": {},
   "outputs": [],
   "source": []
  },
  {
   "cell_type": "markdown",
   "metadata": {},
   "source": [
    "# Circle Detection - Using Hough Cirlces"
   ]
  },
  {
   "cell_type": "markdown",
   "metadata": {},
   "source": [
    "cv2.HoughCircles(image, method, dp, MinDist, param1, param2, minRadius, MaxRadius)"
   ]
  },
  {
   "cell_type": "raw",
   "metadata": {},
   "source": [
    "Method - currently only cv2.HOUGH_GRADIENT available\n",
    "dp - Inverse ratio of accumulator resolution\n",
    "MinDist - the minimum distance between the center of detected circles\n",
    "param1 - Gradient value used in the edge detection\n",
    "param2 - Accumulator threshold for the HOUGH_GRADIENT method, lower allows more circles to be detected (false positives)\n",
    "minRadius - limits the smallest circle to this size (via radius)\n",
    "MaxRadius - similarly sets the limit for the largest circles"
   ]
  },
  {
   "cell_type": "code",
   "execution_count": null,
   "metadata": {},
   "outputs": [],
   "source": [
    "import cv2\n",
    "import numpy as np\n",
    "\n",
    "image = cv2.imread('images/bottlecaps.jpg')\n",
    "image_copy =image.copy()\n",
    "gray = cv2.cvtColor(image, cv2.COLOR_BGR2GRAY)\n",
    "blur = cv2.medianBlur(gray, 5)\n",
    "\n",
    "circles = cv2.HoughCircles(blur, cv2.HOUGH_GRADIENT, 5, 50,param1= 50,param2= 20, minRadius=20, maxRadius=30)\n",
    "circles =np.uint16(np.around(circle))\n",
    "\n",
    "for (x, y, r) in circles[0,:]:\n",
    "       \n",
    "    # draw the outer circle\n",
    "    cv2.circle(image_copy, (x, y), r, (255, 0, 255), 2)\n",
    "    # draw the center of the circle\n",
    "    cv2.circle(image_copy, (x, y), 2, (0, 255, 0), 3)\n",
    "\n",
    "cv2.imshow('detected circles', image_copy)\n",
    "cv2.waitKey()\n",
    "\n",
    "cv2.destroyAllWindows()"
   ]
  },
  {
   "cell_type": "code",
   "execution_count": null,
   "metadata": {},
   "outputs": [],
   "source": []
  },
  {
   "cell_type": "code",
   "execution_count": null,
   "metadata": {},
   "outputs": [],
   "source": []
  },
  {
   "cell_type": "code",
   "execution_count": null,
   "metadata": {},
   "outputs": [],
   "source": []
  },
  {
   "cell_type": "code",
   "execution_count": null,
   "metadata": {},
   "outputs": [],
   "source": []
  },
  {
   "cell_type": "code",
   "execution_count": null,
   "metadata": {},
   "outputs": [],
   "source": []
  }
 ],
 "metadata": {
  "kernelspec": {
   "display_name": "Python 3",
   "language": "python",
   "name": "python3"
  },
  "language_info": {
   "codemirror_mode": {
    "name": "ipython",
    "version": 3
   },
   "file_extension": ".py",
   "mimetype": "text/x-python",
   "name": "python",
   "nbconvert_exporter": "python",
   "pygments_lexer": "ipython3",
   "version": "3.6.8"
  }
 },
 "nbformat": 4,
 "nbformat_minor": 2
}
