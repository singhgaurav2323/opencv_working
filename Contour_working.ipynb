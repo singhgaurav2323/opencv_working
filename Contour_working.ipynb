{
 "cells": [
  {
   "cell_type": "markdown",
   "metadata": {},
   "source": [
    "# Counting Countours"
   ]
  },
  {
   "cell_type": "code",
   "execution_count": 1,
   "metadata": {},
   "outputs": [],
   "source": [
    "import numpy as np\n",
    "import cv2"
   ]
  },
  {
   "cell_type": "markdown",
   "metadata": {},
   "source": [
    "# Countour Assigning"
   ]
  },
  {
   "cell_type": "markdown",
   "metadata": {},
   "source": [
    "counting countours application"
   ]
  },
  {
   "cell_type": "code",
   "execution_count": 2,
   "metadata": {},
   "outputs": [],
   "source": [
    "# Images reading\n",
    "\n",
    "images =cv2.imread(\"images/bunchofshapes.jpg\")\n",
    "w, h =images.shape[:2] \n",
    "image =cv2.resize(images, (w+w, int(h/2)), cv2.INTER_LINEAR) #resizing image for proper display\n",
    "original_image =image.copy()\n",
    "image_copy =image.copy()\n",
    "\n",
    "#grayscale conversion\n",
    "gray =cv2.cvtColor(image, cv2.COLOR_BGR2GRAY)\n",
    "gray_copy =gray.copy()\n",
    "\n",
    "#Edge detection\n",
    "edge =cv2.Canny(gray, 20, 170)\n",
    "\n",
    "#Contour conversion Process\n",
    "#Contour Coordinates\n",
    "image, contours, hierarcy =cv2.findContours(edge, cv2.RETR_EXTERNAL ,cv2.CHAIN_APPROX_SIMPLE)\n",
    "\n",
    "#Drawing Conotur on image\n",
    "cv2.drawContours(gray_copy, contours, -1, (0,254,0), 3)\n",
    "cv2.drawContours(image_copy, contours, -1, (0,255,0), 3)\n",
    "\n",
    "#Display of all the feature analyses\n",
    "cv2.imshow(\"original image\", original_image)\n",
    "cv2.waitKey()\n",
    "\n",
    "cv2.imshow(\"Grayscale image\", gray)\n",
    "cv2.waitKey()\n",
    "\n",
    "cv2.imshow(\"Edge detetion of image\", edge)\n",
    "cv2.waitKey()\n",
    "\n",
    "cv2.imshow(\"Contours draw on Gray image\", gray_copy)\n",
    "cv2.waitKey()\n",
    "\n",
    "cv2.imshow(\"Contours draw on Original image\", image_copy)\n",
    "cv2.waitKey()\n",
    "\n",
    "cv2.destroyAllWindows()"
   ]
  },
  {
   "cell_type": "markdown",
   "metadata": {},
   "source": [
    "# Sorting of Countours"
   ]
  },
  {
   "cell_type": "markdown",
   "metadata": {},
   "source": [
    "arranging the countor in area order"
   ]
  },
  {
   "cell_type": "code",
   "execution_count": 3,
   "metadata": {},
   "outputs": [
    {
     "name": "stdout",
     "output_type": "stream",
     "text": [
      "area without sorting:  [20473.5, 21.0, 66572.0, 89961.0]\n",
      "area after sorting:  [89961.0, 66572.0, 20473.5, 21.0]\n"
     ]
    }
   ],
   "source": [
    "def area_of_countor(para):\n",
    "    get_area=[]\n",
    "    for cor in para:\n",
    "        area =cv2.contourArea(cor)\n",
    "        get_area.append(area)\n",
    "    return get_area\n",
    "\n",
    "new_image =original_image.copy()\n",
    "\n",
    "print(\"area without sorting: \", area_of_countor(contours))\n",
    "\n",
    "# Sorting according to area\n",
    "#sorted_area =sorted(area_of_countor(contours))            #command for sorting of area\n",
    "\n",
    "sorted_contour =sorted(contours, key=cv2.contourArea, reverse =True)   #This command will sort the countors in descending order\n",
    "\n",
    "print(\"area after sorting: \", area_of_countor(sorted_contour))\n",
    "\n",
    "for i in sorted_contour:\n",
    "    cv2.drawContours(new_image, [i], -1, (255,0,0), 3)\n",
    "    cv2.waitKey()\n",
    "    cv2.imshow(\"Countour area descending\", new_image)\n",
    "    \n",
    "cv2.waitKey()\n",
    "cv2.destroyAllWindows()"
   ]
  },
  {
   "cell_type": "code",
   "execution_count": null,
   "metadata": {},
   "outputs": [],
   "source": []
  },
  {
   "cell_type": "markdown",
   "metadata": {},
   "source": [
    "# Plotting the countour centroid and code that remaning?"
   ]
  },
  {
   "cell_type": "code",
   "execution_count": null,
   "metadata": {},
   "outputs": [],
   "source": []
  }
 ],
 "metadata": {
  "kernelspec": {
   "display_name": "Python 3",
   "language": "python",
   "name": "python3"
  },
  "language_info": {
   "codemirror_mode": {
    "name": "ipython",
    "version": 3
   },
   "file_extension": ".py",
   "mimetype": "text/x-python",
   "name": "python",
   "nbconvert_exporter": "python",
   "pygments_lexer": "ipython3",
   "version": "3.6.8"
  }
 },
 "nbformat": 4,
 "nbformat_minor": 2
}
