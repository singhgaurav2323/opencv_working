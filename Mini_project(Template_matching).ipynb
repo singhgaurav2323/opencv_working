{
 "cells": [
  {
   "cell_type": "markdown",
   "metadata": {},
   "source": [
    "# Template Matching"
   ]
  },
  {
   "cell_type": "code",
   "execution_count": 1,
   "metadata": {},
   "outputs": [],
   "source": [
    "import numpy as np\n",
    "import cv2"
   ]
  },
  {
   "cell_type": "code",
   "execution_count": 14,
   "metadata": {},
   "outputs": [],
   "source": [
    "#import main image\n",
    "image =cv2.imread(\"images/WaldoBeach.jpg\")\n",
    "cv2.imshow(\"Original Image\",image)\n",
    "cv2.waitKey()\n",
    "\n",
    "#grayscale conversion\n",
    "gray =cv2.cvtColor(image, cv2.COLOR_BGR2GRAY)\n",
    "\n",
    "#Template image\n",
    "template =cv2.imread(\"images/waldo.jpg\", 0)\n",
    "\n",
    "#Create Boundry Box\n",
    "result =cv2.matchTemplate(gray, template, cv2.TM_CCOEFF)\n",
    "min_val, max_val, min_loc, max_loc, =cv2.minMaxLoc(result)\n",
    "\n",
    "top_left =max_loc\n",
    "bottom_right =( top_left[0]+50, top_left[1]+50 )  #adding 50 in the coordiante to make it as little bit larger than template\n",
    "cv2.rectangle(image, top_left, bottom_right, (0,255,0), 2)\n",
    "\n",
    "cv2.imshow(\"Waldo Image\", image)\n",
    "cv2.waitKey()\n",
    "cv2.destroyAllWindows()"
   ]
  },
  {
   "cell_type": "code",
   "execution_count": null,
   "metadata": {},
   "outputs": [],
   "source": []
  },
  {
   "cell_type": "markdown",
   "metadata": {},
   "source": [
    "# Some more Depth Example"
   ]
  },
  {
   "cell_type": "code",
   "execution_count": 28,
   "metadata": {},
   "outputs": [],
   "source": [
    "image =cv2.imread(\"photo.jpeg\")\n",
    "cv2.imshow(\"Original Image\", image)\n",
    "cv2.waitKey()\n",
    "\n",
    "template =cv2.imread(\"face1.jpeg\")\n",
    "cv2.imshow(\"Template Image\", template)\n",
    "cv2.waitKey()\n",
    "\n",
    "gray_image =cv2.cvtColor(image, cv2.COLOR_BGR2GRAY)\n",
    "gray_template =cv2.cvtColor(template, cv2.COLOR_BGR2GRAY)\n",
    "\n",
    "result =cv2.matchTemplate(gray_image, gray_template, cv2.TM_CCOEFF)\n",
    "_, _, _, max_loc =cv2.minMaxLoc(result)\n",
    "\n",
    "top_left =max_loc\n",
    "template_shape =template.shape\n",
    "bottom_right =(top_left[0]+template_shape[0], top_left[1]+template_shape[1] )\n",
    "\n",
    "cv2.rectangle(image, top_left, bottom_right, (0,255,0), 2)\n",
    "\n",
    "cv2.imshow(\"match image\", image)\n",
    "cv2.waitKey()\n",
    "cv2.destroyAllWindows()"
   ]
  },
  {
   "cell_type": "code",
   "execution_count": null,
   "metadata": {},
   "outputs": [],
   "source": []
  },
  {
   "cell_type": "code",
   "execution_count": null,
   "metadata": {},
   "outputs": [],
   "source": []
  },
  {
   "cell_type": "code",
   "execution_count": 27,
   "metadata": {},
   "outputs": [],
   "source": [
    "image =cv2.imread(\"photo.jpeg\")\n",
    "cv2.imshow(\"Original Image\", image)\n",
    "cv2.waitKey()\n",
    "\n",
    "template =cv2.imread(\"face2.jpeg\")\n",
    "cv2.imshow(\"Template Image\", template)\n",
    "cv2.waitKey()\n",
    "\n",
    "gray_image =cv2.cvtColor(image, cv2.COLOR_BGR2GRAY)\n",
    "gray_template =cv2.cvtColor(template, cv2.COLOR_BGR2GRAY)\n",
    "\n",
    "result =cv2.matchTemplate(gray_image, gray_template, cv2.TM_CCOEFF)\n",
    "_, _, _, max_loc =cv2.minMaxLoc(result)\n",
    "\n",
    "top_left =max_loc\n",
    "template_shape =template.shape\n",
    "bottom_right =(top_left[0]+template_shape[0], top_left[1]+template_shape[1] )\n",
    "\n",
    "cv2.rectangle(image, top_left, bottom_right, (0,255,0), 2)\n",
    "\n",
    "cv2.imshow(\"match image\", image)\n",
    "cv2.waitKey()\n",
    "cv2.destroyAllWindows()"
   ]
  },
  {
   "cell_type": "code",
   "execution_count": null,
   "metadata": {},
   "outputs": [],
   "source": []
  }
 ],
 "metadata": {
  "kernelspec": {
   "display_name": "Python 3",
   "language": "python",
   "name": "python3"
  },
  "language_info": {
   "codemirror_mode": {
    "name": "ipython",
    "version": 3
   },
   "file_extension": ".py",
   "mimetype": "text/x-python",
   "name": "python",
   "nbconvert_exporter": "python",
   "pygments_lexer": "ipython3",
   "version": "3.6.8"
  }
 },
 "nbformat": 4,
 "nbformat_minor": 2
}
