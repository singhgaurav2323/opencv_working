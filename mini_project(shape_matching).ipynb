{
 "cells": [
  {
   "cell_type": "code",
   "execution_count": 1,
   "metadata": {},
   "outputs": [],
   "source": [
    "import numpy as np\n",
    "import cv2"
   ]
  },
  {
   "cell_type": "code",
   "execution_count": 2,
   "metadata": {
    "scrolled": true
   },
   "outputs": [],
   "source": [
    "# Load the main image and ready for sample\n",
    "image =cv2.imread(\"images/someshapes.jpg\")\n",
    "image_copy =image.copy()\n",
    "\n",
    "cv2.imshow(\"Original Image\", image)\n",
    "cv2.waitKey()\n",
    "\n",
    "# Gray Scaling, threshold conversion, and contour conversion\n",
    "gray =cv2.cvtColor(image.copy(), cv2.COLOR_BGR2GRAY)\n",
    "_, thresh =cv2.threshold(gray, 150, 255, 0)\n",
    "_, contours, _ =cv2.findContours(thresh, cv2.RETR_LIST, cv2.CHAIN_APPROX_NONE)\n",
    "\n",
    "# Contour sorting in respect to the area\n",
    "contours =sorted(contours, key=cv2.contourArea, reverse=True)\n",
    "contours =contours[1:]\n",
    "\n",
    "for cn in contours:\n",
    "    #get approximation model\n",
    "    approx =cv2.approxPolyDP(cn, 0.01*cv2.arcLength(cn, True), True)\n",
    "\n",
    "    #Selecting the figure to label the name\n",
    "    \n",
    "    if len(approx) == 3:\n",
    "        #Locating centroid point\n",
    "        M =cv2.moments(cn)\n",
    "        cx =M['m10']/M['m00']\n",
    "        cy =M['m01']/M['m00']\n",
    "        cv2.drawContours(image_copy, [cn], 0, (0,125,255), -1)\n",
    "        cv2.putText(image_copy, 'Triangle', (int(cx)-50,int(cy)), cv2.FONT_HERSHEY_SIMPLEX, 1, (0,0,0), 1 )\n",
    "\n",
    "    elif len(approx) == 10:\n",
    "        M =cv2.moments(cn)\n",
    "        cx =M['m10']/M['m00']\n",
    "        cy =M['m01']/M['m00']\n",
    "        cv2.drawContours(image_copy, [cn], 0, (0,225,255), -1)\n",
    "        cv2.putText(image_copy, 'Star', (int(cx)-40,int(cy)), cv2.FONT_HERSHEY_SIMPLEX, 1, (0,0,0), 1 )\n",
    "\n",
    "    elif len(approx) ==4:\n",
    "        #cv2.boundingrect ,it will return top left point and length and bredth of shape\n",
    "        x, y, w, h =cv2.boundingRect(cn)\n",
    "        # For square\n",
    "        if w-h < 3:\n",
    "            M =cv2.moments(cn)\n",
    "            cx =M['m10']/M['m00']\n",
    "            cy =M['m01']/M['m00']\n",
    "            cv2.drawContours(image_copy, [cn], 0, (225,225,0), -1)\n",
    "            cv2.putText(image_copy, 'Square', (int(cx)-50,int(cy)), cv2.FONT_HERSHEY_SIMPLEX, 1, (0,0,0), 1 )\n",
    "        else:\n",
    "            # For rectangle\n",
    "            M =cv2.moments(cn)\n",
    "            cx =M['m10']/M['m00']\n",
    "            cy =M['m01']/M['m00']\n",
    "            cv2.drawContours(image_copy, [cn], 0, (225,225,255), -1)\n",
    "            cv2.putText(image_copy, 'Rectangle', (int(cx)-50,int(cy)), cv2.FONT_HERSHEY_SIMPLEX, 1, (0,0,0), 1 )\n",
    "    else:\n",
    "        M =cv2.moments(cn)\n",
    "        cx =M['m10']/M['m00']\n",
    "        cy =M['m01']/M['m00']\n",
    "        cv2.drawContours(image_copy, [cn], 0, (225,0,255), -1)\n",
    "        cv2.putText(image_copy, 'Circle', (int(cx)-50,int(cy)), cv2.FONT_HERSHEY_SIMPLEX, 1, (0,0,0), 1 )\n",
    "\n",
    "    cv2.imshow(\"Identifying and Labeling Image\", image_copy)\n",
    "    cv2.waitKey()\n",
    "cv2.waitKey()\n",
    "cv2.destroyAllWindows()"
   ]
  },
  {
   "cell_type": "code",
   "execution_count": null,
   "metadata": {},
   "outputs": [],
   "source": []
  },
  {
   "cell_type": "code",
   "execution_count": null,
   "metadata": {},
   "outputs": [],
   "source": []
  },
  {
   "cell_type": "code",
   "execution_count": null,
   "metadata": {},
   "outputs": [],
   "source": []
  },
  {
   "cell_type": "markdown",
   "metadata": {},
   "source": [
    "# Code to analyse cv2.approxPolyDP(contours, cv2.arcLength(contours, True), True)"
   ]
  },
  {
   "cell_type": "code",
   "execution_count": 3,
   "metadata": {},
   "outputs": [],
   "source": [
    "image =cv2.imread(\"images/someshapes.jpg\")\n",
    "image_copy =image.copy()\n",
    "\n",
    "\n",
    "image, contours, hierarchy =cv2.findContours(thresh, cv2.RETR_LIST, cv2.CHAIN_APPROX_NONE)\n",
    "\n",
    "contours =sorted(contours, key=cv2.contourArea, reverse=True)\n",
    "contours =contours[1:]\n",
    "\n",
    "\n",
    "approx =cv2.approxPolyDP(contours[0], 0.01*cv2.arcLength(contours[0], True), True)\n",
    "cv2.drawContours(image_copy, [approx], 0, (0,255,0), 2)\n",
    "cv2.imshow(\"Approx Ploy DP\", image_copy)\n",
    "cv2.waitKey()\n",
    "cv2.destroyAllWindows()"
   ]
  },
  {
   "cell_type": "code",
   "execution_count": null,
   "metadata": {},
   "outputs": [],
   "source": []
  }
 ],
 "metadata": {
  "kernelspec": {
   "display_name": "Python 3",
   "language": "python",
   "name": "python3"
  },
  "language_info": {
   "codemirror_mode": {
    "name": "ipython",
    "version": 3
   },
   "file_extension": ".py",
   "mimetype": "text/x-python",
   "name": "python",
   "nbconvert_exporter": "python",
   "pygments_lexer": "ipython3",
   "version": "3.6.8"
  }
 },
 "nbformat": 4,
 "nbformat_minor": 2
}
