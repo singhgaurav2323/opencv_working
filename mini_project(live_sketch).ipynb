{
 "cells": [
  {
   "cell_type": "code",
   "execution_count": 4,
   "metadata": {},
   "outputs": [],
   "source": [
    "import numpy as np\n",
    "import cv2"
   ]
  },
  {
   "cell_type": "code",
   "execution_count": 2,
   "metadata": {},
   "outputs": [],
   "source": []
  },
  {
   "cell_type": "code",
   "execution_count": 9,
   "metadata": {},
   "outputs": [],
   "source": [
    "def sketch(image):\n",
    "    \n",
    "    # Convert to gray scale image\n",
    "    image_gray =cv2.cvtColor(image, cv2.COLOR_BGR2GRAY)\n",
    "    \n",
    "    # Applying blurring image\n",
    "    blur =cv2.GaussianBlur(image_gray, (5,5), 0)\n",
    "    \n",
    "    # Edge detection of the image\n",
    "    canny =cv2.Canny(blur, 15, 50)\n",
    "    \n",
    "    #Getting the sketch on the bases os threshold\n",
    "    _, mask =cv2.threshold(canny, 70, 255, cv2.THRESH_BINARY)\n",
    "    \n",
    "    return mask"
   ]
  },
  {
   "cell_type": "code",
   "execution_count": 43,
   "metadata": {},
   "outputs": [],
   "source": [
    "'''\n",
    "image =cv2.imread(\"images/Trump.jpg\")\n",
    "cv2.imshow(\"sketch\", sketch(image))\n",
    "cv2.waitKey()\n",
    "cv2.destroyAllWindows()\n",
    "'''"
   ]
  },
  {
   "cell_type": "code",
   "execution_count": 3,
   "metadata": {},
   "outputs": [],
   "source": [
    "capture =cv2.VideoCapture(0)\n",
    "\n",
    "\n",
    "while True:\n",
    "    ret, frame =capture.read()\n",
    "    cv2.imshow(\"Real sketch\", sketch(frame))\n",
    "    \n",
    "    if cv2.waitKey(1) == 13:  #13 is for Enter Key and 1 is passed for continous capture\n",
    "        break\n",
    "        \n",
    "\n",
    "# Release Camera and close windows\n",
    "capture.release()\n",
    "cv2.destroyAllWindows()"
   ]
  },
  {
   "cell_type": "code",
   "execution_count": 12,
   "metadata": {},
   "outputs": [],
   "source": [
    "image_main=cv2.imread(\"many_faces.jpeg\")\n",
    "frame =sketch(image_main)\n",
    "cv2.imshow(\"Orignial Image\", image_main)\n",
    "cv2.waitKey()\n",
    "\n",
    "cv2.imshow(\"Sketch Image\", frame)\n",
    "cv2.waitKey()\n",
    "cv2.destroyAllWindows()"
   ]
  },
  {
   "cell_type": "code",
   "execution_count": null,
   "metadata": {},
   "outputs": [],
   "source": []
  },
  {
   "cell_type": "code",
   "execution_count": null,
   "metadata": {},
   "outputs": [],
   "source": []
  }
 ],
 "metadata": {
  "kernelspec": {
   "display_name": "Python 3",
   "language": "python",
   "name": "python3"
  },
  "language_info": {
   "codemirror_mode": {
    "name": "ipython",
    "version": 3
   },
   "file_extension": ".py",
   "mimetype": "text/x-python",
   "name": "python",
   "nbconvert_exporter": "python",
   "pygments_lexer": "ipython3",
   "version": "3.6.8"
  }
 },
 "nbformat": 4,
 "nbformat_minor": 2
}
