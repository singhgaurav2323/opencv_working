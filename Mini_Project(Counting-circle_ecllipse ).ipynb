{
 "cells": [
  {
   "cell_type": "markdown",
   "metadata": {},
   "source": [
    "# Counting Circular and Eclipse Blobs"
   ]
  },
  {
   "cell_type": "code",
   "execution_count": 1,
   "metadata": {},
   "outputs": [],
   "source": [
    "import numpy as np\n",
    "import cv2"
   ]
  },
  {
   "cell_type": "code",
   "execution_count": 41,
   "metadata": {},
   "outputs": [],
   "source": [
    "image =cv2.imread(\"images/blobs.jpg\")\n",
    "\n",
    "Detector =cv2.SimpleBlobDetector_create()\n",
    "\n",
    "keynotes =Detector.detect(image)\n",
    "\n",
    "blobs =cv2.drawKeypoints(image, keynotes, np.zeros((1,1)), (0,255,0), cv2.DRAW_MATCHES_FLAGS_DEFAULT)\n",
    "\n",
    "lenght =len(keynotes)\n",
    "\n",
    "cv2.putText(blobs,\"Total Blobs Counts: \"+str(lenght), (20,550) ,cv2.FONT_HERSHEY_PLAIN ,2, (0,255,200), 2)\n",
    "\n",
    "cv2.imshow(\"Main image\", image)\n",
    "cv2.waitKey()\n",
    "\n",
    "cv2.imshow(\"Main Blobs image\", blobs)\n",
    "cv2.waitKey()\n",
    "\n",
    "# Feature analysis\n",
    "params =cv2.SimpleBlobDetector_Params()\n",
    "\n",
    "# Area\n",
    "params.filterByArea =True\n",
    "params.minArea =100\n",
    "\n",
    "# Circularity\n",
    "params.filterByCircularity =True\n",
    "params.minCircularity =0.9\n",
    "\n",
    "#Convex nature\n",
    "params.filterByConvexity =False\n",
    "params.minConvexity =0.1\n",
    "\n",
    "#Inertial\n",
    "params.filterByInertia =True\n",
    "params.minInertiaRatio =0.01\n",
    "\n",
    "#Create detector\n",
    "detector =cv2.SimpleBlobDetector_create(params)\n",
    "\n",
    "keynotes_circle =detector.detect(image)\n",
    "length_circle =len(keynotes_circle)\n",
    "\n",
    "blobs_circle =cv2.drawKeypoints(image, keynotes_circle, np.zeros((1,1)), (0,255,0), cv2.DRAW_MATCHES_FLAGS_DEFAULT)\n",
    "cv2.putText(blobs_circle,\"Total Circular Blobs Counts: \"+str(length_circle), (20,550) ,cv2.FONT_HERSHEY_PLAIN ,2, (0,255,255), 2 )\n",
    "\n",
    "cv2.imshow(\"Main Blobs image\", blobs_circle)\n",
    "cv2.waitKey()\n",
    "cv2.destroyAllWindows()"
   ]
  },
  {
   "cell_type": "code",
   "execution_count": null,
   "metadata": {},
   "outputs": [],
   "source": []
  }
 ],
 "metadata": {
  "kernelspec": {
   "display_name": "Python 3",
   "language": "python",
   "name": "python3"
  },
  "language_info": {
   "codemirror_mode": {
    "name": "ipython",
    "version": 3
   },
   "file_extension": ".py",
   "mimetype": "text/x-python",
   "name": "python",
   "nbconvert_exporter": "python",
   "pygments_lexer": "ipython3",
   "version": "3.6.8"
  }
 },
 "nbformat": 4,
 "nbformat_minor": 2
}
