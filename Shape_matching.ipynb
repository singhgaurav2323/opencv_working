{
 "cells": [
  {
   "cell_type": "code",
   "execution_count": 1,
   "metadata": {},
   "outputs": [],
   "source": [
    "import numpy as np\n",
    "import cv2"
   ]
  },
  {
   "cell_type": "raw",
   "metadata": {},
   "source": [
    "cv2.matchShapes(contour template, contour, method, method parametre)\n",
    "\n",
    "output :- match value(lower value means a good match)\n",
    "\n",
    ".Contour template - This is our refernce contour that we are trying to match in new image\n",
    ".Contour - The individual contour we are checking against\n",
    ".method -Type of contour matching (1, 2, 3) \n",
    ".method parametre - leave alone (0.0) as not completely utilised"
   ]
  },
  {
   "cell_type": "code",
   "execution_count": 2,
   "metadata": {},
   "outputs": [
    {
     "name": "stdout",
     "output_type": "stream",
     "text": [
      "0.16818605122199104\n",
      "0.19946910256158912\n",
      "0.18949760627309664\n",
      "0.11101058276281539\n"
     ]
    }
   ],
   "source": [
    "# Load reference image/ template\n",
    "template =cv2.imread(\"4star.jpg\",0)\n",
    "cv2.imshow(\"Refernce Image\", template)\n",
    "cv2.waitKey()\n",
    "\n",
    "#Load image we are trying to match\n",
    "target =cv2.imread(\"images/shapestomatch.jpg\")\n",
    "target_gray =cv2.cvtColor(target, cv2.COLOR_BGR2GRAY)\n",
    "cv2.imshow(\"Target Image\", target)\n",
    "cv2.waitKey()\n",
    "\n",
    "# Threshold images for both images\n",
    "_, thresh1 =cv2.threshold(template, 127, 255, 0)\n",
    "_, thresh2 =cv2.threshold(target_gray, 127, 255, 0)\n",
    "\n",
    "#Countour finding of both template and target image\n",
    "_, contours_temp, _ =cv2.findContours(thresh1, cv2.RETR_CCOMP, cv2.CHAIN_APPROX_SIMPLE)\n",
    "contours_temp =sorted(contours_temp, key=cv2.contourArea, reverse=True)\n",
    "contours_temp= contours_temp[1]    # selecting Contour[1] as it will have shape info rather then total shape\n",
    "\n",
    "\n",
    "_, contours_targ, _ =cv2.findContours(thresh2, cv2.RETR_CCOMP, cv2.CHAIN_APPROX_SIMPLE)\n",
    "\n",
    "\n",
    "\n",
    "for c in contours_targ:\n",
    "    # Iterate through the target image to get result\n",
    "    # cv2.matchShapes() for this\n",
    "    match =cv2.matchShapes(contours_temp, c, 1, 0.0)\n",
    "    print(match)\n",
    "    \n",
    "    if match < 0.15:\n",
    "        closest_counter =c\n",
    "    else:\n",
    "        closest_counter=[]\n",
    "        \n",
    "# Output Display\n",
    "cv2.drawContours(target, [closest_counter], -1, (0,255,0), 3)\n",
    "cv2.imshow(\"Output Match\", target)\n",
    "cv2.waitKey()\n",
    "\n",
    "cv2.destroyAllWindows()"
   ]
  },
  {
   "cell_type": "code",
   "execution_count": null,
   "metadata": {},
   "outputs": [],
   "source": []
  },
  {
   "cell_type": "code",
   "execution_count": null,
   "metadata": {},
   "outputs": [],
   "source": []
  },
  {
   "cell_type": "code",
   "execution_count": null,
   "metadata": {},
   "outputs": [],
   "source": []
  },
  {
   "cell_type": "code",
   "execution_count": null,
   "metadata": {},
   "outputs": [],
   "source": []
  },
  {
   "cell_type": "code",
   "execution_count": null,
   "metadata": {},
   "outputs": [],
   "source": []
  }
 ],
 "metadata": {
  "kernelspec": {
   "display_name": "Python 3",
   "language": "python",
   "name": "python3"
  },
  "language_info": {
   "codemirror_mode": {
    "name": "ipython",
    "version": 3
   },
   "file_extension": ".py",
   "mimetype": "text/x-python",
   "name": "python",
   "nbconvert_exporter": "python",
   "pygments_lexer": "ipython3",
   "version": "3.6.8"
  }
 },
 "nbformat": 4,
 "nbformat_minor": 2
}
