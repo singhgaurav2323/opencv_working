{
 "cells": [
  {
   "cell_type": "markdown",
   "metadata": {},
   "source": [
    "# Corners Detections"
   ]
  },
  {
   "cell_type": "code",
   "execution_count": 1,
   "metadata": {},
   "outputs": [],
   "source": [
    "import numpy as np\n",
    "import cv2"
   ]
  },
  {
   "cell_type": "code",
   "execution_count": 28,
   "metadata": {},
   "outputs": [],
   "source": [
    "image =cv2.imread(\"images/chess.jpg\")\n",
    "gray =cv2.cvtColor(image, cv2.COLOR_BGR2GRAY)\n",
    "\n",
    "#Corners detection in image\n",
    "corners=cv2.cornerHarris(gray, 3, 3, 0.05)\n",
    "\n",
    "#Dilation for enhancing the corners\n",
    "filters =np.ones((7,7), np.uint8)\n",
    "corners =cv2.dilate(corners, filters, iterations=3)\n",
    "\n",
    "# Threhold sepration to label the corners\n",
    "image[ corners>0.025] = [0, 200, 0]\n",
    "\n",
    "cv2.imshow(\"Original Image\", image)\n",
    "cv2.waitKey()\n",
    "cv2.destroyAllWindows()"
   ]
  },
  {
   "cell_type": "raw",
   "metadata": {},
   "source": [
    "cv2.cornerHarrise(image, threshold1, threshold2, free-detection-unit)\n",
    "output =array of corner location(x, y)"
   ]
  },
  {
   "cell_type": "code",
   "execution_count": null,
   "metadata": {},
   "outputs": [],
   "source": []
  },
  {
   "cell_type": "markdown",
   "metadata": {},
   "source": [
    "# Improved Edge Detection -Good Features to Track"
   ]
  },
  {
   "cell_type": "code",
   "execution_count": 54,
   "metadata": {},
   "outputs": [],
   "source": [
    "image =cv2.imread(\"images/chess.jpg\")\n",
    "gray =cv2.cvtColor(image, cv2.COLOR_BGR2GRAY)\n",
    "\n",
    "#Corners detection in image\n",
    "corners=cv2.goodFeaturesToTrack(gray, 60, 0.1, 60)\n",
    "\n",
    "#to plot corners\n",
    "for corner in corners:\n",
    "    x, y =corner[0]\n",
    "    cv2.drawMarker(image,(int(x), int(y)), (0,255,0), cv2.MARKER_SQUARE, 30, 3 )\n",
    "\n",
    "cv2.imshow(\"Original Image\", image)\n",
    "cv2.waitKey()\n",
    "cv2.destroyAllWindows()"
   ]
  },
  {
   "cell_type": "raw",
   "metadata": {},
   "source": [
    "cv2.goodFeaturesToTrack(image, max_corners, quality_level, min_distance)\n",
    ".image        -images to find corners\n",
    ".min_corners  -the number of minimumm corners to find out\n",
    ".qualty_level -lie between 0.1 to 1500 indexing quality value\n",
    ".min_distance -the minimum euclidian distance between two corners"
   ]
  },
  {
   "cell_type": "code",
   "execution_count": null,
   "metadata": {},
   "outputs": [],
   "source": []
  },
  {
   "cell_type": "code",
   "execution_count": null,
   "metadata": {},
   "outputs": [],
   "source": []
  },
  {
   "cell_type": "code",
   "execution_count": null,
   "metadata": {},
   "outputs": [],
   "source": []
  }
 ],
 "metadata": {
  "kernelspec": {
   "display_name": "Python 3",
   "language": "python",
   "name": "python3"
  },
  "language_info": {
   "codemirror_mode": {
    "name": "ipython",
    "version": 3
   },
   "file_extension": ".py",
   "mimetype": "text/x-python",
   "name": "python",
   "nbconvert_exporter": "python",
   "pygments_lexer": "ipython3",
   "version": "3.6.8"
  }
 },
 "nbformat": 4,
 "nbformat_minor": 2
}
