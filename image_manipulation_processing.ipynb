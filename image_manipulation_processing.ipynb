{
 "cells": [
  {
   "cell_type": "code",
   "execution_count": 1,
   "metadata": {},
   "outputs": [],
   "source": [
    "import numpy as np\n",
    "import matplotlib.pyplot as plt\n",
    "import cv2"
   ]
  },
  {
   "cell_type": "markdown",
   "metadata": {},
   "source": [
    "Affine and non affine tranlation and projection are helpfull in image changes.\n"
   ]
  },
  {
   "cell_type": "markdown",
   "metadata": {},
   "source": [
    "# Translation"
   ]
  },
  {
   "cell_type": "markdown",
   "metadata": {},
   "source": [
    "we use cv2.warpAffine() function to apply Tranlation"
   ]
  },
  {
   "cell_type": "code",
   "execution_count": null,
   "metadata": {},
   "outputs": [],
   "source": []
  },
  {
   "cell_type": "code",
   "execution_count": 2,
   "metadata": {},
   "outputs": [],
   "source": [
    "image =cv2.imread(\"images/input.jpg\")\n",
    "\n",
    "height, width =image.shape[:2]\n",
    "\n",
    "quater_height, quater_width =height/4, width/4\n",
    "\n",
    "# T is our tranlation matrix\n",
    "T =np.array([[1,0,quater_width],[0,1,quater_height]])\n",
    "\n",
    "# we use wardpAffine function to change the using matrix T\n",
    "img_translation =cv2.warpAffine(image, T, (width, height))\n",
    "cv2.imshow(\"Tranlation image\", img_translation)\n",
    "cv2.imshow(\"Original Image\",image)\n",
    "cv2.waitKey()\n",
    "cv2.destroyAllWindows()"
   ]
  },
  {
   "cell_type": "code",
   "execution_count": 3,
   "metadata": {},
   "outputs": [
    {
     "name": "stdout",
     "output_type": "stream",
     "text": [
      "[[  1.     0.   155.5 ]\n",
      " [  0.     1.   103.75]]\n"
     ]
    }
   ],
   "source": [
    "# Look at T\n",
    "print(T)"
   ]
  },
  {
   "cell_type": "code",
   "execution_count": null,
   "metadata": {},
   "outputs": [],
   "source": []
  },
  {
   "cell_type": "markdown",
   "metadata": {},
   "source": [
    "# Rotation"
   ]
  },
  {
   "cell_type": "markdown",
   "metadata": {},
   "source": [
    "to attain rotation matrix\n",
    "\n",
    "cv2.getRotationMatrix2D((rotation_x, rotation_y), angle of rotation, scale)"
   ]
  },
  {
   "cell_type": "code",
   "execution_count": 4,
   "metadata": {},
   "outputs": [],
   "source": [
    "image =cv2.imread(\"input.jpg\")\n",
    "\n",
    "height, width =image.shape[:2]\n",
    "\n",
    "rotation_matrix =cv2.getRotationMatrix2D((width/2, height/2), 90, .8)\n",
    "\n",
    "rotated_image =cv2.warpAffine(image, rotation_matrix, (width, height))\n",
    "\n",
    "cv2.imshow(\"Rotated image\", rotated_image)\n",
    "cv2.imshow(\"Original Image\",image)\n",
    "cv2.waitKey()\n",
    "cv2.destroyAllWindows()"
   ]
  },
  {
   "cell_type": "markdown",
   "metadata": {},
   "source": [
    "Hence there is another method to rotate the matrix to deal with the cropping and scaling of image"
   ]
  },
  {
   "cell_type": "markdown",
   "metadata": {},
   "source": [
    "cv2.transpose() is used for this purpose"
   ]
  },
  {
   "cell_type": "code",
   "execution_count": 5,
   "metadata": {},
   "outputs": [],
   "source": [
    "image =cv2.imread(\"input.jpg\")\n",
    "\n",
    "rotated_image =cv2.transpose(image)\n",
    "\n",
    "cv2.imshow(\"Rotated image\", rotated_image)\n",
    "cv2.imshow(\"Original Image\",image)\n",
    "cv2.waitKey()\n",
    "cv2.destroyAllWindows()"
   ]
  },
  {
   "cell_type": "markdown",
   "metadata": {},
   "source": [
    "the issue in this is here mirror image is form while transpoing the image"
   ]
  },
  {
   "cell_type": "code",
   "execution_count": null,
   "metadata": {},
   "outputs": [],
   "source": []
  },
  {
   "cell_type": "markdown",
   "metadata": {},
   "source": [
    "# Scaling, re-sizing and Interpolation"
   ]
  },
  {
   "cell_type": "markdown",
   "metadata": {},
   "source": [
    "cv2.resize(image, dsize(output image size), xscale, y scale, Interpolation)"
   ]
  },
  {
   "cell_type": "raw",
   "metadata": {},
   "source": [
    "Interpolation\n",
    "\n",
    "cv2.INTER_AREA    - Good for shrinking or down sampling\n",
    "cv2.INTER_NEAREST - Fastest\n",
    "cv2.INTER_LINEAR  - Good for zooming or sampling up (default)\n",
    "cv2.INTER_CUBIC   - Better\n",
    "cv2.INTER_LANCZOS4- Best"
   ]
  },
  {
   "cell_type": "code",
   "execution_count": 6,
   "metadata": {},
   "outputs": [],
   "source": [
    "image =cv2.imread(\"input.jpg\")\n",
    "\n",
    "#resize of image to 3/4 of inital size and by default interploation is linear\n",
    "resize_image =cv2.resize(image, None, fx=0.75, fy=0.75)\n",
    "cv2.imshow(\"Original Image\",image)\n",
    "cv2.imshow(\"Scale down image\", resize_image)\n",
    "cv2.waitKey()\n",
    "cv2.destroyAllWindows()\n",
    "\n",
    "#resizing the image of double size using the cubic interpolation\n",
    "resize_image =cv2.resize(image, None, fx=2.0, fy=2.0, interpolation=cv2.INTER_CUBIC)\n",
    "cv2.imshow(\"Original Image\", image)\n",
    "cv2.imshow(\"scaling higher image\", resize_image)\n",
    "cv2.waitKey()\n",
    "cv2.destroyAllWindows()\n",
    "\n",
    "#resizing the image by exact dimension setting by area interpolation\n",
    "resize_image =cv2.resize(image, (800,400), interpolation=cv2.INTER_AREA)\n",
    "cv2.imshow(\"Original Image\", image)\n",
    "cv2.imshow(\"Scaling Image\", resize_image)\n",
    "cv2.waitKey()\n",
    "cv2.destroyAllWindows()"
   ]
  },
  {
   "cell_type": "code",
   "execution_count": null,
   "metadata": {},
   "outputs": [],
   "source": []
  },
  {
   "cell_type": "markdown",
   "metadata": {},
   "source": [
    "# Cropping"
   ]
  },
  {
   "cell_type": "markdown",
   "metadata": {},
   "source": [
    "no as such library but simple processing"
   ]
  },
  {
   "cell_type": "code",
   "execution_count": 7,
   "metadata": {},
   "outputs": [],
   "source": [
    "image =cv2.imread(\"input.jpg\")\n",
    "\n",
    "height, width =image.shape[:2]\n",
    "\n",
    "sta_row, sta_col =int(height*.25), int(width*.25)\n",
    "ending_row, ending_col =int(height*.75),int(width*.75)\n",
    "\n",
    "cropped_image =image[sta_row:ending_row ,sta_col:ending_col]       #Here we can enter directly the pixel values\n",
    "\n",
    "cv2.imshow(\"Original Image\", image)\n",
    "cv2.imshow(\"Cropped Image\", cropped_image)\n",
    "cv2.waitKey()\n",
    "cv2.destroyAllWindows()"
   ]
  },
  {
   "cell_type": "code",
   "execution_count": null,
   "metadata": {},
   "outputs": [],
   "source": []
  },
  {
   "cell_type": "markdown",
   "metadata": {},
   "source": [
    "# Arithmatic Operation"
   ]
  },
  {
   "cell_type": "markdown",
   "metadata": {},
   "source": [
    "in above additin use as increasing brightness and subtraction is used as darkness"
   ]
  },
  {
   "cell_type": "code",
   "execution_count": 8,
   "metadata": {},
   "outputs": [],
   "source": [
    "image =cv2.imread(\"input.jpg\")\n",
    "\n",
    "M =np.ones(image.shape, dtype=\"uint8\")*100                   #ones array declaration of same shape as image\n",
    "\n",
    "#addition\n",
    "add_img =cv2.add(image, M)\n",
    "\n",
    "#subtraction\n",
    "sub_img =cv2.subtract(image, M)\n",
    "\n",
    "cv2.imshow(\"Original Image\", image)\n",
    "cv2.imshow(\"added image\", add_img)\n",
    "cv2.imshow(\"Subtracted Image\", sub_img)\n",
    "cv2.waitKey()\n",
    "cv2.destroyAllWindows()"
   ]
  },
  {
   "cell_type": "code",
   "execution_count": null,
   "metadata": {},
   "outputs": [],
   "source": []
  },
  {
   "cell_type": "markdown",
   "metadata": {},
   "source": [
    "# Bitwise Operation and Masking"
   ]
  },
  {
   "cell_type": "raw",
   "metadata": {},
   "source": [
    "it involve and ,or ,not operation like that\n",
    "cv2.bitwise_and\n",
    "cv2.bitwise_not\n",
    "cv2.bitwise_or\n",
    "cv2.bitwise_xor"
   ]
  },
  {
   "cell_type": "code",
   "execution_count": null,
   "metadata": {},
   "outputs": [],
   "source": []
  },
  {
   "cell_type": "markdown",
   "metadata": {},
   "source": [
    "# Convolution and Blurring"
   ]
  },
  {
   "cell_type": "code",
   "execution_count": null,
   "metadata": {},
   "outputs": [],
   "source": []
  },
  {
   "cell_type": "code",
   "execution_count": 9,
   "metadata": {},
   "outputs": [],
   "source": [
    "image =cv2.imread(\"input.jpg\")\n",
    "\n",
    "#filter decaration for convolution\n",
    "filter_3x3 =np.ones((3,3) ,np.float32 )/9\n",
    "filter_7x7 =np.ones((7,7) ,np.float32 )/49\n",
    "\n",
    "#convolution for image blurring specified performance\n",
    "blur_3x3 =cv2.filter2D(image, -1, filter_3x3)                    #filter2d is a convolution performance\n",
    "blur_7x7 =cv2.filter2D(image, -1, filter_7x7)\n",
    "\n",
    "#result analyses\n",
    "cv2.imshow(\"original image\", image)\n",
    "cv2.imshow(\"blur image 3x3\", blur_3x3)\n",
    "cv2.imshow(\"blur image 7x7\", blur_7x7)\n",
    "cv2.waitKey()\n",
    "cv2.destroyAllWindows()"
   ]
  },
  {
   "cell_type": "markdown",
   "metadata": {},
   "source": [
    "other commonly used process in blurring effect"
   ]
  },
  {
   "cell_type": "code",
   "execution_count": 10,
   "metadata": {},
   "outputs": [],
   "source": [
    "image =cv2.imread(\"images/elephant.jpg\")\n",
    "\n",
    "#in this normalizing box filter is used in convolution\n",
    "blur =cv2.blur(image, (3,3))\n",
    "cv2.imshow(\"original image\", image)\n",
    "cv2.imshow(\"average blur image\", blur)\n",
    "cv2.waitKey()\n",
    "cv2.destroyAllWindows()\n",
    "\n",
    "#in this box filter replaced by Guassian filter\n",
    "gaussian =cv2.GaussianBlur(image, (7,7) ,0)\n",
    "cv2.imshow(\"original image\", image)\n",
    "cv2.imshow(\"blur image gaussian\", gaussian)\n",
    "cv2.waitKey()\n",
    "cv2.destroyAllWindows()\n",
    "\n",
    "#in this median of all pixel for blur\n",
    "blur =cv2.medianBlur(image, 5)\n",
    "cv2.imshow(\"original image\", image)\n",
    "cv2.imshow(\"median blur image \", blur)\n",
    "cv2.waitKey()\n",
    "cv2.destroyAllWindows()\n",
    "\n",
    "#bilateral is effective in NOISE removal while keeping edge sharp\n",
    "bilateral =cv2.bilateralFilter(image, 9, 75, 75)\n",
    "cv2.imshow(\"original image\", image)\n",
    "cv2.imshow(\"Bilateral blur image \", blur)\n",
    "cv2.waitKey()\n",
    "cv2.destroyAllWindows()"
   ]
  },
  {
   "cell_type": "code",
   "execution_count": null,
   "metadata": {},
   "outputs": [],
   "source": []
  },
  {
   "cell_type": "markdown",
   "metadata": {},
   "source": [
    "# Sharpening"
   ]
  },
  {
   "cell_type": "markdown",
   "metadata": {},
   "source": [
    "this is reverse process of blurring process performed on the image"
   ]
  },
  {
   "cell_type": "code",
   "execution_count": 11,
   "metadata": {},
   "outputs": [],
   "source": [
    "image =cv2.imread(\"images/input.jpg\")\n",
    "\n",
    "#filter decaration for convolution\n",
    "sharpen_filter =np.array([[-1, -1, -1],\n",
    "                          [-1, 9, -1],\n",
    "                          [-1, -1, -1]])\n",
    "\n",
    "#convolution for image blurring specified performance\n",
    "sharpen =cv2.filter2D(image, -1, sharpen_filter)                    #filter2d is a convolution performance\n",
    "\n",
    "#result analyses\n",
    "cv2.imshow(\"original image\", image)\n",
    "cv2.imshow(\"Sharpen Image\", sharpen)\n",
    "cv2.waitKey()\n",
    "cv2.destroyAllWindows()"
   ]
  },
  {
   "cell_type": "code",
   "execution_count": null,
   "metadata": {},
   "outputs": [],
   "source": []
  },
  {
   "cell_type": "markdown",
   "metadata": {},
   "source": [
    "# Thresholding"
   ]
  },
  {
   "cell_type": "markdown",
   "metadata": {},
   "source": [
    "converting image to its binary form is thresholding\n",
    "\n",
    "note: it work only on grayscale image"
   ]
  },
  {
   "cell_type": "code",
   "execution_count": null,
   "metadata": {},
   "outputs": [],
   "source": []
  },
  {
   "cell_type": "code",
   "execution_count": null,
   "metadata": {},
   "outputs": [],
   "source": []
  },
  {
   "cell_type": "markdown",
   "metadata": {},
   "source": [
    "# Dilation and Erosion"
   ]
  },
  {
   "cell_type": "raw",
   "metadata": {},
   "source": [
    "Dilation - Adds pixels to the boundry of the image\n",
    "Erosion - Remove pixels at the boundry of the image\n",
    "Opening - Erosion followed by dilation \n",
    "Closing - Dilation followed by erosion"
   ]
  },
  {
   "cell_type": "markdown",
   "metadata": {},
   "source": [
    "Dilation,Erosion, Opening, Closing"
   ]
  },
  {
   "cell_type": "code",
   "execution_count": 21,
   "metadata": {},
   "outputs": [],
   "source": [
    "image =cv2.imread(\"images/opencv_inv.png\")\n",
    "\n",
    "cv2.imshow(\"Original Image\", image)\n",
    "cv2.waitKey()\n",
    "\n",
    "# Let's define kernal/filter size \n",
    "filter =np.ones((5,5), np.uint8)\n",
    "\n",
    "#now we erode \n",
    "erosion =cv2.erode(image, filter, iterations =1)\n",
    "cv2.imshow(\"Erode Image\", erosion)\n",
    "cv2.waitKey()\n",
    "\n",
    "# Now we dilute\n",
    "dilution =cv2.dilate(image, filter, iterations =1)\n",
    "cv2.imshow(\"Dilute Image\", dilution)\n",
    "cv2.waitKey()\n",
    "\n",
    "# Opening -good for noise removal\n",
    "opening =cv2.morphologyEx(image, cv2.MORPH_OPEN, filter)\n",
    "cv2.imshow(\"Opening Image\", opening)\n",
    "cv2.waitKey()\n",
    "\n",
    "#Closing -good for noise cancellation\n",
    "closing =cv2.morphologyEx(image, cv2.MORPH_CLOSE, filter)\n",
    "cv2.imshow(\"Closing Image\", closing)\n",
    "cv2.waitKey()\n",
    "cv2.destroyAllWindows()"
   ]
  },
  {
   "cell_type": "markdown",
   "metadata": {},
   "source": [
    "Hence closing is opt out best as it first dilute(add pixcels) then it erode(reduce pixcels)"
   ]
  },
  {
   "cell_type": "markdown",
   "metadata": {},
   "source": [
    "in cv2.morphologyEx() we can use several ways rest then closing and opeing having various impact"
   ]
  },
  {
   "cell_type": "code",
   "execution_count": null,
   "metadata": {},
   "outputs": [],
   "source": []
  },
  {
   "cell_type": "markdown",
   "metadata": {},
   "source": [
    "# Edge Detection Algorithum"
   ]
  },
  {
   "cell_type": "markdown",
   "metadata": {},
   "source": [
    "Canny is the best algorithum approach to this edge detection"
   ]
  },
  {
   "cell_type": "markdown",
   "metadata": {},
   "source": [
    "image =cv2.imread(\"images/input.jpg\")\n",
    "\n",
    "canny =cv2.Canny(image, 20, 170)\n",
    "cv2.imshow(\"Original Image\", image)\n",
    "cv2.imshow(\"Edge  detected image\", canny)\n",
    "cv2.waitKey()\n",
    "cv2.destroyAllWindows()"
   ]
  },
  {
   "cell_type": "raw",
   "metadata": {},
   "source": [
    "we can change the lower and upper threshold value i.e threshold1 and threshold2\n",
    "Any value larger than threshold2 is considered as edge. \n",
    "Any value between these threshold will be considered as edge or non-edge depend upon intensity of image. "
   ]
  },
  {
   "cell_type": "code",
   "execution_count": null,
   "metadata": {},
   "outputs": [],
   "source": []
  },
  {
   "cell_type": "markdown",
   "metadata": {},
   "source": [
    "# Perspective transformation"
   ]
  },
  {
   "cell_type": "markdown",
   "metadata": {},
   "source": [
    "In this non affine image is set to affine "
   ]
  },
  {
   "cell_type": "code",
   "execution_count": 32,
   "metadata": {},
   "outputs": [],
   "source": [
    "image =cv2.imread(\"images/scan.jpg\")\n",
    "cv2.imshow(\"Original Image\", image)\n",
    "\n",
    "point_A =np.float32([[320,15], [700,215], [85,610], [530,780]])\n",
    "\n",
    "point_B =np.float32([[0,0], [420,0], [0,594], [420,594]])\n",
    "\n",
    "M= cv2.getPerspectiveTransform(point_A, point_B)\n",
    "\n",
    "warped =cv2.warpPerspective(image, M, (420,594))\n",
    "\n",
    "cv2.imshow(\"warpPerspective\", warped)\n",
    "cv2.waitKey()\n",
    "cv2.destroyAllWindows()"
   ]
  },
  {
   "cell_type": "code",
   "execution_count": null,
   "metadata": {},
   "outputs": [],
   "source": []
  },
  {
   "cell_type": "code",
   "execution_count": null,
   "metadata": {},
   "outputs": [],
   "source": []
  }
 ],
 "metadata": {
  "kernelspec": {
   "display_name": "Python 3",
   "language": "python",
   "name": "python3"
  },
  "language_info": {
   "codemirror_mode": {
    "name": "ipython",
    "version": 3
   },
   "file_extension": ".py",
   "mimetype": "text/x-python",
   "name": "python",
   "nbconvert_exporter": "python",
   "pygments_lexer": "ipython3",
   "version": "3.6.8"
  }
 },
 "nbformat": 4,
 "nbformat_minor": 2
}
